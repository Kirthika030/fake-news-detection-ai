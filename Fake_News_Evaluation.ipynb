{
  "nbformat": 4,
  "nbformat_minor": 0,
  "metadata": {
    "colab": {
      "provenance": [],
      "authorship_tag": "ABX9TyP7rlc/YrWACFbO1xJLotKO",
      "include_colab_link": true
    },
    "kernelspec": {
      "name": "python3",
      "display_name": "Python 3"
    },
    "language_info": {
      "name": "python"
    }
  },
  "cells": [
    {
      "cell_type": "markdown",
      "metadata": {
        "id": "view-in-github",
        "colab_type": "text"
      },
      "source": [
        "<a href=\"https://colab.research.google.com/github/Kirthika030/fake-news-detection-ai/blob/main/Fake_News_Evaluation.ipynb\" target=\"_parent\"><img src=\"https://colab.research.google.com/assets/colab-badge.svg\" alt=\"Open In Colab\"/></a>"
      ]
    },
    {
      "cell_type": "code",
      "execution_count": 1,
      "metadata": {
        "colab": {
          "base_uri": "https://localhost:8080/",
          "height": 0
        },
        "id": "6TXvdwB_eHof",
        "outputId": "70682760-0c00-405d-c376-99a0597b8260"
      },
      "outputs": [
        {
          "output_type": "stream",
          "name": "stdout",
          "text": [
            "Cloning into 'fake-news-detection-ai'...\n",
            "remote: Enumerating objects: 34, done.\u001b[K\n",
            "remote: Counting objects: 100% (34/34), done.\u001b[K\n",
            "remote: Compressing objects: 100% (28/28), done.\u001b[K\n",
            "remote: Total 34 (delta 8), reused 13 (delta 3), pack-reused 0 (from 0)\u001b[K\n",
            "Receiving objects: 100% (34/34), 16.79 MiB | 9.66 MiB/s, done.\n",
            "Resolving deltas: 100% (8/8), done.\n"
          ]
        }
      ],
      "source": [
        "!git clone https://github.com/Kirthika030/fake-news-detection-ai.git"
      ]
    },
    {
      "cell_type": "code",
      "source": [
        "!pip install streamlit"
      ],
      "metadata": {
        "colab": {
          "base_uri": "https://localhost:8080/",
          "height": 0
        },
        "id": "_bq6upBpfSp9",
        "outputId": "c5bff72a-ca74-454a-a1e5-eab2936011be"
      },
      "execution_count": 2,
      "outputs": [
        {
          "output_type": "stream",
          "name": "stdout",
          "text": [
            "Collecting streamlit\n",
            "  Downloading streamlit-1.45.1-py3-none-any.whl.metadata (8.9 kB)\n",
            "Requirement already satisfied: altair<6,>=4.0 in /usr/local/lib/python3.11/dist-packages (from streamlit) (5.5.0)\n",
            "Requirement already satisfied: blinker<2,>=1.5.0 in /usr/local/lib/python3.11/dist-packages (from streamlit) (1.9.0)\n",
            "Requirement already satisfied: cachetools<6,>=4.0 in /usr/local/lib/python3.11/dist-packages (from streamlit) (5.5.2)\n",
            "Requirement already satisfied: click<9,>=7.0 in /usr/local/lib/python3.11/dist-packages (from streamlit) (8.2.1)\n",
            "Requirement already satisfied: numpy<3,>=1.23 in /usr/local/lib/python3.11/dist-packages (from streamlit) (2.0.2)\n",
            "Requirement already satisfied: packaging<25,>=20 in /usr/local/lib/python3.11/dist-packages (from streamlit) (24.2)\n",
            "Requirement already satisfied: pandas<3,>=1.4.0 in /usr/local/lib/python3.11/dist-packages (from streamlit) (2.2.2)\n",
            "Requirement already satisfied: pillow<12,>=7.1.0 in /usr/local/lib/python3.11/dist-packages (from streamlit) (11.2.1)\n",
            "Requirement already satisfied: protobuf<7,>=3.20 in /usr/local/lib/python3.11/dist-packages (from streamlit) (5.29.5)\n",
            "Requirement already satisfied: pyarrow>=7.0 in /usr/local/lib/python3.11/dist-packages (from streamlit) (18.1.0)\n",
            "Requirement already satisfied: requests<3,>=2.27 in /usr/local/lib/python3.11/dist-packages (from streamlit) (2.32.3)\n",
            "Requirement already satisfied: tenacity<10,>=8.1.0 in /usr/local/lib/python3.11/dist-packages (from streamlit) (9.1.2)\n",
            "Requirement already satisfied: toml<2,>=0.10.1 in /usr/local/lib/python3.11/dist-packages (from streamlit) (0.10.2)\n",
            "Requirement already satisfied: typing-extensions<5,>=4.4.0 in /usr/local/lib/python3.11/dist-packages (from streamlit) (4.14.0)\n",
            "Collecting watchdog<7,>=2.1.5 (from streamlit)\n",
            "  Downloading watchdog-6.0.0-py3-none-manylinux2014_x86_64.whl.metadata (44 kB)\n",
            "\u001b[2K     \u001b[90m━━━━━━━━━━━━━━━━━━━━━━━━━━━━━━━━━━━━━━━━\u001b[0m \u001b[32m44.3/44.3 kB\u001b[0m \u001b[31m1.4 MB/s\u001b[0m eta \u001b[36m0:00:00\u001b[0m\n",
            "\u001b[?25hRequirement already satisfied: gitpython!=3.1.19,<4,>=3.0.7 in /usr/local/lib/python3.11/dist-packages (from streamlit) (3.1.44)\n",
            "Collecting pydeck<1,>=0.8.0b4 (from streamlit)\n",
            "  Downloading pydeck-0.9.1-py2.py3-none-any.whl.metadata (4.1 kB)\n",
            "Requirement already satisfied: tornado<7,>=6.0.3 in /usr/local/lib/python3.11/dist-packages (from streamlit) (6.4.2)\n",
            "Requirement already satisfied: jinja2 in /usr/local/lib/python3.11/dist-packages (from altair<6,>=4.0->streamlit) (3.1.6)\n",
            "Requirement already satisfied: jsonschema>=3.0 in /usr/local/lib/python3.11/dist-packages (from altair<6,>=4.0->streamlit) (4.24.0)\n",
            "Requirement already satisfied: narwhals>=1.14.2 in /usr/local/lib/python3.11/dist-packages (from altair<6,>=4.0->streamlit) (1.41.0)\n",
            "Requirement already satisfied: gitdb<5,>=4.0.1 in /usr/local/lib/python3.11/dist-packages (from gitpython!=3.1.19,<4,>=3.0.7->streamlit) (4.0.12)\n",
            "Requirement already satisfied: python-dateutil>=2.8.2 in /usr/local/lib/python3.11/dist-packages (from pandas<3,>=1.4.0->streamlit) (2.9.0.post0)\n",
            "Requirement already satisfied: pytz>=2020.1 in /usr/local/lib/python3.11/dist-packages (from pandas<3,>=1.4.0->streamlit) (2025.2)\n",
            "Requirement already satisfied: tzdata>=2022.7 in /usr/local/lib/python3.11/dist-packages (from pandas<3,>=1.4.0->streamlit) (2025.2)\n",
            "Requirement already satisfied: charset-normalizer<4,>=2 in /usr/local/lib/python3.11/dist-packages (from requests<3,>=2.27->streamlit) (3.4.2)\n",
            "Requirement already satisfied: idna<4,>=2.5 in /usr/local/lib/python3.11/dist-packages (from requests<3,>=2.27->streamlit) (3.10)\n",
            "Requirement already satisfied: urllib3<3,>=1.21.1 in /usr/local/lib/python3.11/dist-packages (from requests<3,>=2.27->streamlit) (2.4.0)\n",
            "Requirement already satisfied: certifi>=2017.4.17 in /usr/local/lib/python3.11/dist-packages (from requests<3,>=2.27->streamlit) (2025.4.26)\n",
            "Requirement already satisfied: smmap<6,>=3.0.1 in /usr/local/lib/python3.11/dist-packages (from gitdb<5,>=4.0.1->gitpython!=3.1.19,<4,>=3.0.7->streamlit) (5.0.2)\n",
            "Requirement already satisfied: MarkupSafe>=2.0 in /usr/local/lib/python3.11/dist-packages (from jinja2->altair<6,>=4.0->streamlit) (3.0.2)\n",
            "Requirement already satisfied: attrs>=22.2.0 in /usr/local/lib/python3.11/dist-packages (from jsonschema>=3.0->altair<6,>=4.0->streamlit) (25.3.0)\n",
            "Requirement already satisfied: jsonschema-specifications>=2023.03.6 in /usr/local/lib/python3.11/dist-packages (from jsonschema>=3.0->altair<6,>=4.0->streamlit) (2025.4.1)\n",
            "Requirement already satisfied: referencing>=0.28.4 in /usr/local/lib/python3.11/dist-packages (from jsonschema>=3.0->altair<6,>=4.0->streamlit) (0.36.2)\n",
            "Requirement already satisfied: rpds-py>=0.7.1 in /usr/local/lib/python3.11/dist-packages (from jsonschema>=3.0->altair<6,>=4.0->streamlit) (0.25.1)\n",
            "Requirement already satisfied: six>=1.5 in /usr/local/lib/python3.11/dist-packages (from python-dateutil>=2.8.2->pandas<3,>=1.4.0->streamlit) (1.17.0)\n",
            "Downloading streamlit-1.45.1-py3-none-any.whl (9.9 MB)\n",
            "\u001b[2K   \u001b[90m━━━━━━━━━━━━━━━━━━━━━━━━━━━━━━━━━━━━━━━━\u001b[0m \u001b[32m9.9/9.9 MB\u001b[0m \u001b[31m71.4 MB/s\u001b[0m eta \u001b[36m0:00:00\u001b[0m\n",
            "\u001b[?25hDownloading pydeck-0.9.1-py2.py3-none-any.whl (6.9 MB)\n",
            "\u001b[2K   \u001b[90m━━━━━━━━━━━━━━━━━━━━━━━━━━━━━━━━━━━━━━━━\u001b[0m \u001b[32m6.9/6.9 MB\u001b[0m \u001b[31m92.6 MB/s\u001b[0m eta \u001b[36m0:00:00\u001b[0m\n",
            "\u001b[?25hDownloading watchdog-6.0.0-py3-none-manylinux2014_x86_64.whl (79 kB)\n",
            "\u001b[2K   \u001b[90m━━━━━━━━━━━━━━━━━━━━━━━━━━━━━━━━━━━━━━━━\u001b[0m \u001b[32m79.1/79.1 kB\u001b[0m \u001b[31m5.6 MB/s\u001b[0m eta \u001b[36m0:00:00\u001b[0m\n",
            "\u001b[?25hInstalling collected packages: watchdog, pydeck, streamlit\n",
            "Successfully installed pydeck-0.9.1 streamlit-1.45.1 watchdog-6.0.0\n"
          ]
        }
      ]
    },
    {
      "cell_type": "code",
      "source": [
        "import pandas as pd\n",
        "import numpy as np\n",
        "import matplotlib.pyplot as plt\n",
        "import seaborn as sns\n",
        "from sklearn.model_selection import train_test_split\n",
        "from sklearn.metrics import confusion_matrix, classification_report, accuracy_score\n",
        "import pickle\n",
        "import warnings\n",
        "warnings.filterwarnings('ignore')\n",
        "\n",
        "print(\"✅ Libraries imported successfully!\")"
      ],
      "metadata": {
        "colab": {
          "base_uri": "https://localhost:8080/",
          "height": 0
        },
        "id": "UmiIR2GxfiWP",
        "outputId": "ad275778-55e1-486f-843f-f5d347a5e627"
      },
      "execution_count": 3,
      "outputs": [
        {
          "output_type": "stream",
          "name": "stdout",
          "text": [
            "✅ Libraries imported successfully!\n"
          ]
        }
      ]
    },
    {
      "cell_type": "code",
      "source": [
        "import os\n",
        "print(\"📁 Your file structure:\")\n",
        "for root, dirs, files in os.walk('.'):\n",
        "    level = root.replace('.', '').count(os.sep)\n",
        "    indent = ' ' * 2 * level\n",
        "    print(f'{indent}{os.path.basename(root)}/')\n",
        "    subindent = ' ' * 2 * (level + 1)\n",
        "    for file in files:\n",
        "        if file.endswith(('.h5', '.pkl', '.csv', '.py')):\n",
        "            print(f'{subindent}{file}')"
      ],
      "metadata": {
        "colab": {
          "base_uri": "https://localhost:8080/",
          "height": 0
        },
        "id": "kT8oOI_bfwXG",
        "outputId": "d03039df-af60-466f-ccb7-0178dba03a80"
      },
      "execution_count": 6,
      "outputs": [
        {
          "output_type": "stream",
          "name": "stdout",
          "text": [
            "📁 Your file structure:\n",
            "./\n",
            "  .config/\n",
            "    logs/\n",
            "      2025.06.09/\n",
            "    configurations/\n",
            "  fake-news-detection-ai/\n",
            "    cleaned_news.csv\n",
            "    data/\n",
            "      fake_or_real_news.csv\n",
            "      cleaned_news.csv\n",
            "    .git/\n",
            "      objects/\n",
            "        info/\n",
            "        pack/\n",
            "      logs/\n",
            "        refs/\n",
            "          remotes/\n",
            "            origin/\n",
            "          heads/\n",
            "      info/\n",
            "      refs/\n",
            "        remotes/\n",
            "          origin/\n",
            "        heads/\n",
            "        tags/\n",
            "      hooks/\n",
            "      branches/\n",
            "    models/\n",
            "      lstm_model.h5\n",
            "      tokenizer.pkl\n",
            "  sample_data/\n",
            "    california_housing_train.csv\n",
            "    mnist_test.csv\n",
            "    california_housing_test.csv\n",
            "    mnist_train_small.csv\n"
          ]
        }
      ]
    },
    {
      "cell_type": "code",
      "source": [
        "from tensorflow.keras.models import load_model\n",
        "from tensorflow.keras.utils import pad_sequences\n",
        "\n",
        "# Load model and tokenizer (make sure files are uploaded)\n",
        "try:\n",
        "    model = load_model('/content/fake-news-detection-ai/models/lstm_model.h5')\n",
        "    print(\"✅ LSTM Model loaded!\")\n",
        "\n",
        "    with open('/content/fake-news-detection-ai/models/tokenizer.pkl', 'rb') as f:\n",
        "        tokenizer = pickle.load(f)\n",
        "    print(\"✅ Tokenizer loaded!\")\n",
        "\n",
        "    # Load cleaned data\n",
        "    df = pd.read_csv('/content/fake-news-detection-ai/data/cleaned_news.csv')\n",
        "    print(\"✅ Data loaded!\")\n",
        "    print(f\"Dataset shape: {df.shape}\")\n",
        "\n",
        "except Exception as e:\n",
        "    print(f\"❌ Error loading files: {e}\")\n",
        "    print(\"Make sure you have uploaded: lstm_model.h5, tokenizer.pkl, cleaned_news.csv\")"
      ],
      "metadata": {
        "colab": {
          "base_uri": "https://localhost:8080/",
          "height": 0
        },
        "id": "h2ze32shj8gC",
        "outputId": "9433e8e7-120e-4bb9-8282-1d7633f7f3ae"
      },
      "execution_count": 8,
      "outputs": [
        {
          "output_type": "stream",
          "name": "stderr",
          "text": [
            "WARNING:absl:Compiled the loaded model, but the compiled metrics have yet to be built. `model.compile_metrics` will be empty until you train or evaluate the model.\n"
          ]
        },
        {
          "output_type": "stream",
          "name": "stdout",
          "text": [
            "✅ LSTM Model loaded!\n",
            "✅ Tokenizer loaded!\n",
            "✅ Data loaded!\n",
            "Dataset shape: (6335, 4)\n"
          ]
        }
      ]
    },
    {
      "cell_type": "code",
      "source": [
        "X = df['clean_text']\n",
        "y = df['label']\n",
        "\n",
        "# Same split as used in training\n",
        "_, X_test, _, y_test = train_test_split(X, y, test_size=0.2, random_state=42)\n",
        "\n",
        "print(f\"Test set size: {len(X_test)}\")\n",
        "\n",
        "# Convert text to sequences for LSTM\n",
        "X_test_seq = pad_sequences(tokenizer.texts_to_sequences(X_test), maxlen=300)\n",
        "print(\"✅ Test data prepared!\")"
      ],
      "metadata": {
        "colab": {
          "base_uri": "https://localhost:8080/",
          "height": 0
        },
        "id": "zIfxc_Gnk_RI",
        "outputId": "0fed0db3-24dc-4611-b2e9-53d917e6a4fa"
      },
      "execution_count": 9,
      "outputs": [
        {
          "output_type": "stream",
          "name": "stdout",
          "text": [
            "Test set size: 1267\n",
            "✅ Test data prepared!\n"
          ]
        }
      ]
    },
    {
      "cell_type": "code",
      "source": [
        "print(\"Making predictions...\")\n",
        "y_pred_prob = model.predict(X_test_seq)\n",
        "y_pred = (y_pred_prob > 0.5).astype(int).flatten()\n",
        "\n",
        "print(\"✅ Predictions completed!\")"
      ],
      "metadata": {
        "colab": {
          "base_uri": "https://localhost:8080/",
          "height": 0
        },
        "id": "QvKTsTvTlGHH",
        "outputId": "5a9878b9-5d65-4fc1-997e-12c2163bc13a"
      },
      "execution_count": 10,
      "outputs": [
        {
          "output_type": "stream",
          "name": "stdout",
          "text": [
            "Making predictions...\n",
            "\u001b[1m40/40\u001b[0m \u001b[32m━━━━━━━━━━━━━━━━━━━━\u001b[0m\u001b[37m\u001b[0m \u001b[1m2s\u001b[0m 43ms/step\n",
            "✅ Predictions completed!\n"
          ]
        }
      ]
    },
    {
      "cell_type": "code",
      "source": [
        "accuracy = accuracy_score(y_test, y_pred)\n",
        "print(f\"\\n🎯 MODEL ACCURACY: {accuracy:.4f} ({accuracy*100:.2f}%)\")\n",
        "\n",
        "# Detailed classification report\n",
        "print(\"\\n📊 CLASSIFICATION REPORT:\")\n",
        "print(classification_report(y_test, y_pred, target_names=['FAKE', 'REAL']))"
      ],
      "metadata": {
        "colab": {
          "base_uri": "https://localhost:8080/",
          "height": 0
        },
        "id": "63zPKuzflSjP",
        "outputId": "09710e87-9521-41c4-8330-3a60aa921095"
      },
      "execution_count": 11,
      "outputs": [
        {
          "output_type": "stream",
          "name": "stdout",
          "text": [
            "\n",
            "🎯 MODEL ACCURACY: 0.8792 (87.92%)\n",
            "\n",
            "📊 CLASSIFICATION REPORT:\n",
            "              precision    recall  f1-score   support\n",
            "\n",
            "        FAKE       0.87      0.89      0.88       628\n",
            "        REAL       0.89      0.87      0.88       639\n",
            "\n",
            "    accuracy                           0.88      1267\n",
            "   macro avg       0.88      0.88      0.88      1267\n",
            "weighted avg       0.88      0.88      0.88      1267\n",
            "\n"
          ]
        }
      ]
    },
    {
      "cell_type": "code",
      "source": [
        "cm = confusion_matrix(y_test, y_pred)\n",
        "\n",
        "plt.figure(figsize=(8, 6))\n",
        "sns.heatmap(cm, annot=True, fmt='d', cmap='Blues',\n",
        "            xticklabels=['FAKE', 'REAL'],\n",
        "            yticklabels=['FAKE', 'REAL'])\n",
        "plt.title('Confusion Matrix - LSTM Model')\n",
        "plt.ylabel('Actual')\n",
        "plt.xlabel('Predicted')\n",
        "plt.show()\n",
        "\n",
        "print(\"✅ Confusion matrix created!\")"
      ],
      "metadata": {
        "colab": {
          "base_uri": "https://localhost:8080/",
          "height": 582
        },
        "id": "_zxCAXmKlVBJ",
        "outputId": "5ab463ed-4de7-4598-c496-b5374880fd7e"
      },
      "execution_count": 12,
      "outputs": [
        {
          "output_type": "display_data",
          "data": {
            "text/plain": [
              "<Figure size 800x600 with 2 Axes>"
            ],
            "image/png": "[encoded data removed]"
          },
          "metadata": {}
        },
        {
          "output_type": "stream",
          "name": "stdout",
          "text": [
            "✅ Confusion matrix created!\n"
          ]
        }
      ]
    },
    {
      "cell_type": "code",
      "source": [
        "print(\"\\n🔍 SAMPLE PREDICTIONS:\")\n",
        "print(\"-\" * 80)\n",
        "\n",
        "# Get first 5 test samples\n",
        "sample_texts = X_test.iloc[:5].values\n",
        "sample_labels = y_test.iloc[:5].values\n",
        "sample_preds = y_pred[:5]\n",
        "sample_probs = y_pred_prob[:5].flatten()\n",
        "\n",
        "for i in range(5):\n",
        "    actual = \"REAL\" if sample_labels[i] == 1 else \"FAKE\"\n",
        "    predicted = \"REAL\" if sample_preds[i] == 1 else \"FAKE\"\n",
        "    confidence = sample_probs[i] if sample_preds[i] == 1 else 1 - sample_probs[i]\n",
        "\n",
        "    print(f\"\\nSample {i+1}:\")\n",
        "    print(f\"Text: {sample_texts[i][:100]}...\")\n",
        "    print(f\"Actual: {actual}\")\n",
        "    print(f\"Predicted: {predicted}\")\n",
        "    print(f\"Confidence: {confidence:.3f}\")\n",
        "    print(\"-\" * 40)\n",
        "\n",
        "print(\"✅ Evaluation completed!\")"
      ],
      "metadata": {
        "colab": {
          "base_uri": "https://localhost:8080/",
          "height": 0
        },
        "id": "GzPuHjmPla8w",
        "outputId": "95c358a4-6ad7-46d1-8a00-332d7a9677b5"
      },
      "execution_count": 13,
      "outputs": [
        {
          "output_type": "stream",
          "name": "stdout",
          "text": [
            "\n",
            "🔍 SAMPLE PREDICTIONS:\n",
            "--------------------------------------------------------------------------------\n",
            "\n",
            "Sample 1:\n",
            "Text: Will Trump pull a Brexit times ten? What would it take, beyond WikiLeaks, to bring the Clinton (cash...\n",
            "Actual: FAKE\n",
            "Predicted: FAKE\n",
            "Confidence: 0.967\n",
            "----------------------------------------\n",
            "\n",
            "Sample 2:\n",
            "Text: Clintons Are Under Multiple FBI Investigations as Agents Are Stymied   Source: Wall street on parade...\n",
            "Actual: FAKE\n",
            "Predicted: FAKE\n",
            "Confidence: 0.990\n",
            "----------------------------------------\n",
            "\n",
            "Sample 3:\n",
            "Text: Dispatches from Eric Zuesse This piece is crossposted at strategic-culture.org The power above the U...\n",
            "Actual: FAKE\n",
            "Predicted: FAKE\n",
            "Confidence: 0.982\n",
            "----------------------------------------\n",
            "\n",
            "Sample 4:\n",
            "Text: Print \n",
            "[Ed. – Every now and then the facade cracks. Somebody asks a question the media haven’t inter...\n",
            "Actual: FAKE\n",
            "Predicted: FAKE\n",
            "Confidence: 0.932\n",
            "----------------------------------------\n",
            "\n",
            "Sample 5:\n",
            "Text: Nanny In Jail After Force Feeding Baby To Death 2 shares by Ike Mclean / October 27, 2016 / LIFE / \n",
            "...\n",
            "Actual: FAKE\n",
            "Predicted: FAKE\n",
            "Confidence: 0.975\n",
            "----------------------------------------\n",
            "✅ Evaluation completed!\n"
          ]
        }
      ]
    },
    {
      "cell_type": "code",
      "source": [
        "results_summary = {\n",
        "    'Model': 'LSTM',\n",
        "    'Accuracy': f\"{accuracy:.4f}\",\n",
        "    'Test_Samples': len(X_test),\n",
        "    'Correct_Predictions': np.sum(y_pred == y_test),\n",
        "    'Wrong_Predictions': np.sum(y_pred != y_test)\n",
        "}\n",
        "\n",
        "print(\"\\n📈 FINAL RESULTS SUMMARY:\")\n",
        "for key, value in results_summary.items():\n",
        "    print(f\"{key}: {value}\")"
      ],
      "metadata": {
        "colab": {
          "base_uri": "https://localhost:8080/",
          "height": 0
        },
        "id": "MkJ0mdhblhjZ",
        "outputId": "bbf6df2c-844b-4421-c045-e8ef2a3326aa"
      },
      "execution_count": 15,
      "outputs": [
        {
          "output_type": "stream",
          "name": "stdout",
          "text": [
            "\n",
            "📈 FINAL RESULTS SUMMARY:\n",
            "Model: LSTM\n",
            "Accuracy: 0.8792\n",
            "Test_Samples: 1267\n",
            "Correct_Predictions: 1114\n",
            "Wrong_Predictions: 153\n"
          ]
        }
      ]
    },
    {
      "cell_type": "code",
      "source": [
        "# CREATE STREAMLIT APP\n",
        "# Run this in a new Colab cell\n",
        "\n",
        "# First, create the app.py file\n",
        "app_code = '''\n",
        "import streamlit as st\n",
        "import pickle\n",
        "import pandas as pd\n",
        "import numpy as np\n",
        "from tensorflow.keras.models import load_model\n",
        "from tensorflow.keras.utils import pad_sequences\n",
        "import re\n",
        "from nltk.corpus import stopwords\n",
        "from nltk.stem import WordNetLemmatizer\n",
        "import nltk\n",
        "\n",
        "# Download required NLTK data\n",
        "@st.cache_resource\n",
        "def download_nltk_data():\n",
        "    try:\n",
        "        nltk.data.find('tokenizers/punkt')\n",
        "        nltk.data.find('corpora/stopwords')\n",
        "        nltk.data.find('corpora/wordnet')\n",
        "    except LookupError:\n",
        "        nltk.download('punkt')\n",
        "        nltk.download('stopwords')\n",
        "        nltk.download('wordnet')\n",
        "\n",
        "download_nltk_data()\n",
        "\n",
        "# Initialize preprocessing tools\n",
        "stop_words = set(stopwords.words('english'))\n",
        "lemmatizer = WordNetLemmatizer()\n",
        "\n",
        "def clean_text(text):\n",
        "    \"\"\"Clean and preprocess text same as training data\"\"\"\n",
        "    text = text.lower()\n",
        "    text = re.sub(r'[^a-zA-Z ]', '', text)\n",
        "    words = text.split()\n",
        "    words = [lemmatizer.lemmatize(word) for word in words if word not in stop_words]\n",
        "    return ' '.join(words)\n",
        "\n",
        "# Load model and tokenizer\n",
        "@st.cache_resource\n",
        "def load_model_and_tokenizer():\n",
        "    try:\n",
        "        model = load_model('lstm_model.h5')\n",
        "        with open('tokenizer.pkl', 'rb') as f:\n",
        "            tokenizer = pickle.load(f)\n",
        "        return model, tokenizer\n",
        "    except Exception as e:\n",
        "        st.error(f\"Error loading model: {e}\")\n",
        "        return None, None\n",
        "\n",
        "# Streamlit App\n",
        "def main():\n",
        "    st.set_page_config(\n",
        "        page_title=\"Fake News Detector\",\n",
        "        page_icon=\"📰\",\n",
        "        layout=\"centered\"\n",
        "    )\n",
        "\n",
        "    # Title and description\n",
        "    st.title(\"📰 Fake News Detection System\")\n",
        "    st.markdown(\"### Powered by LSTM Deep Learning Model\")\n",
        "    st.write(\"Enter a news article below to check if it's real or fake!\")\n",
        "\n",
        "    # Load model\n",
        "    model, tokenizer = load_model_and_tokenizer()\n",
        "\n",
        "    if model is None or tokenizer is None:\n",
        "        st.error(\"❌ Could not load the model. Please make sure model files are available.\")\n",
        "        return\n",
        "\n",
        "    # Input section\n",
        "    st.markdown(\"---\")\n",
        "    st.subheader(\"📝 Enter News Article\")\n",
        "\n",
        "    # Text input options\n",
        "    input_method = st.radio(\n",
        "        \"Choose input method:\",\n",
        "        [\"Type/Paste Text\", \"Upload Text File\"]\n",
        "    )\n",
        "\n",
        "    user_input = \"\"\n",
        "\n",
        "    if input_method == \"Type/Paste Text\":\n",
        "        user_input = st.text_area(\n",
        "            \"Paste your news article here:\",\n",
        "            height=200,\n",
        "            placeholder=\"Enter the news article text here...\"\n",
        "        )\n",
        "    else:\n",
        "        uploaded_file = st.file_uploader(\"Choose a text file\", type=\"txt\")\n",
        "        if uploaded_file is not None:\n",
        "            user_input = str(uploaded_file.read(), \"utf-8\")\n",
        "            st.text_area(\"Uploaded content:\", user_input, height=150)\n",
        "\n",
        "    # Prediction section\n",
        "    if st.button(\"🔍 Analyze News\", type=\"primary\"):\n",
        "        if user_input.strip():\n",
        "            with st.spinner(\"Analyzing the article...\"):\n",
        "                try:\n",
        "                    # Preprocess the input\n",
        "                    cleaned_input = clean_text(user_input)\n",
        "\n",
        "                    # Convert to sequence\n",
        "                    sequence = tokenizer.texts_to_sequences([cleaned_input])\n",
        "                    padded_sequence = pad_sequences(sequence, maxlen=300)\n",
        "\n",
        "                    # Make prediction\n",
        "                    prediction_prob = model.predict(padded_sequence)[0][0]\n",
        "\n",
        "                    # Determine result\n",
        "                    if prediction_prob > 0.5:\n",
        "                        result = \"REAL\"\n",
        "                        confidence = prediction_prob\n",
        "                        color = \"green\"\n",
        "                        icon = \"✅\"\n",
        "                    else:\n",
        "                        result = \"FAKE\"\n",
        "                        confidence = 1 - prediction_prob\n",
        "                        color = \"red\"\n",
        "                        icon = \"❌\"\n",
        "\n",
        "                    # Display results\n",
        "                    st.markdown(\"---\")\n",
        "                    st.subheader(\"🎯 Analysis Results\")\n",
        "\n",
        "                    col1, col2 = st.columns(2)\n",
        "\n",
        "                    with col1:\n",
        "                        st.markdown(f\"### {icon} Prediction\")\n",
        "                        st.markdown(f\"<h2 style='color: {color};'>{result} NEWS</h2>\",\n",
        "                                   unsafe_allow_html=True)\n",
        "\n",
        "                    with col2:\n",
        "                        st.markdown(\"### 📊 Confidence\")\n",
        "                        st.markdown(f\"<h2>{confidence:.1%}</h2>\", unsafe_allow_html=True)\n",
        "\n",
        "                        # Confidence bar\n",
        "                        st.progress(confidence)\n",
        "\n",
        "                    # Additional info\n",
        "                    st.markdown(\"---\")\n",
        "                    st.markdown(\"### 📋 Analysis Details\")\n",
        "\n",
        "                    if result == \"FAKE\":\n",
        "                        st.warning(\"⚠️ This article shows characteristics of fake news. Be cautious about sharing or believing this information.\")\n",
        "                        st.info(\"🔍 Consider checking multiple reliable sources before accepting this information.\")\n",
        "                    else:\n",
        "                        st.success(\"✅ This article appears to be legitimate news.\")\n",
        "                        st.info(\"📰 Remember to always verify information from multiple trusted sources.\")\n",
        "\n",
        "                    # Technical details (expandable)\n",
        "                    with st.expander(\"🔧 Technical Details\"):\n",
        "                        st.write(f\"**Model Type:** LSTM Neural Network\")\n",
        "                        st.write(f\"**Raw Prediction Score:** {prediction_prob:.6f}\")\n",
        "                        st.write(f\"**Processed Text Length:** {len(cleaned_input.split())} words\")\n",
        "                        st.write(f\"**Original Text Length:** {len(user_input.split())} words\")\n",
        "\n",
        "                except Exception as e:\n",
        "                    st.error(f\"❌ Error during analysis: {str(e)}\")\n",
        "        else:\n",
        "            st.warning(\"⚠️ Please enter some text to analyze!\")\n",
        "\n",
        "    # Footer\n",
        "    st.markdown(\"---\")\n",
        "    st.markdown(\n",
        "        \"\"\"\n",
        "        <div style='text-align: center; color: gray;'>\n",
        "        <p>🎓 Built by College Students | Team Project</p>\n",
        "        <p>⚠️ This is an educational project. Always verify news from multiple reliable sources.</p>\n",
        "        </div>\n",
        "        \"\"\",\n",
        "        unsafe_allow_html=True\n",
        "    )\n",
        "\n",
        "if __name__ == \"__main__\":\n",
        "    main()\n",
        "'''\n",
        "\n",
        "# Write the app to a file\n",
        "with open('app.py', 'w') as f:\n",
        "    f.write(app_code)\n",
        "\n",
        "print(\"✅ app.py created successfully!\")\n",
        "print(\"\\nTo run the app:\")\n",
        "print(\"1. Make sure lstm_model.h5 and tokenizer.pkl are in the same folder\")\n",
        "print(\"2. Run: streamlit run app.py\")"
      ],
      "metadata": {
        "colab": {
          "base_uri": "https://localhost:8080/",
          "height": 0
        },
        "id": "5f_HDopYmHUn",
        "outputId": "b38f2a7f-67b3-4d02-9fa3-087f68948e47"
      },
      "execution_count": 16,
      "outputs": [
        {
          "output_type": "stream",
          "name": "stdout",
          "text": [
            "✅ app.py created successfully!\n",
            "\n",
            "To run the app:\n",
            "1. Make sure lstm_model.h5 and tokenizer.pkl are in the same folder\n",
            "2. Run: streamlit run app.py\n"
          ]
        }
      ]
    }
  ]
}